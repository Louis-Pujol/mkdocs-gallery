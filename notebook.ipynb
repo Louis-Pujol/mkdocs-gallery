{
 "cells": [
  {
   "cell_type": "code",
   "execution_count": 1,
   "metadata": {},
   "outputs": [],
   "source": [
    "import pyvista as pv\n",
    "\n",
    "from pyvista.plotting.utilities.sphinx_gallery import Scraper, DynamicScraper\n",
    "\n",
    "def wrap_scraper(scraper):\n",
    "    \"\"\"Wrap a sphinx gallery scraper.\"\"\"\n",
    "\n",
    "    def __init__(self, sphinx_scraper):\n",
    "        self.sphinx_scraper = sphinx_scraper\n",
    "\n",
    "    def __call__(self):\n",
    "\n",
    "        block_var = {}\n",
    "        "
   ]
  },
  {
   "cell_type": "code",
   "execution_count": null,
   "metadata": {},
   "outputs": [],
   "source": [
    "from mkdocs_gallery.gen_gallery import GalleryGenerator"
   ]
  }
 ],
 "metadata": {
  "kernelspec": {
   "display_name": "python3.10",
   "language": "python",
   "name": "python3"
  },
  "language_info": {
   "codemirror_mode": {
    "name": "ipython",
    "version": 3
   },
   "file_extension": ".py",
   "mimetype": "text/x-python",
   "name": "python",
   "nbconvert_exporter": "python",
   "pygments_lexer": "ipython3",
   "version": "3.10.13"
  }
 },
 "nbformat": 4,
 "nbformat_minor": 2
}
